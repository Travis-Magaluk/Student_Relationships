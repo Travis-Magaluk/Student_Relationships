{
 "cells": [
  {
   "cell_type": "code",
   "execution_count": 13,
   "id": "07759a82",
   "metadata": {},
   "outputs": [
    {
     "name": "stdout",
     "output_type": "stream",
     "text": [
      "           First Name        Last Name              Advisor  Grade  \\\n",
      "0         Fanny Bryce     Ashley-Orvin         holly.hooper    8.0   \n",
      "1            Federico   Canales Lozano         derek.lashot    8.0   \n",
      "2              Andrik            Essey         todd.bucklin    8.0   \n",
      "3               Andre  Jarquin Partida            todd.tree    8.0   \n",
      "4            Minkyung              Jin          alyssa.wolf    8.0   \n",
      "..                ...              ...                  ...    ...   \n",
      "171    Gabriel (Gabe)     Wolf-Velarde        travis.madsen   12.0   \n",
      "172     Zixuan (Andy)               Xu        ryan.anderson   12.0   \n",
      "173  Zhicheng (David)              Zhu            todd.tree   12.0   \n",
      "174           Kenshin         Miyajima  angela.christiansen   13.0   \n",
      "175              Test          Student                  NaN    NaN   \n",
      "\n",
      "                Dorm  NF_Ci  NF_X  NF_Ch  NF_T  KOS_Ci  ...  KOS_Ch  KOS_T  \\\n",
      "0         Alice Dorm    2.0   2.0    3.0   1.0     0.0  ...     1.0    0.0   \n",
      "1         Finks Dorm    1.0   1.0    5.0   1.0     0.0  ...     0.0    0.0   \n",
      "2                NaN    1.0   3.0    6.0   0.0     0.0  ...     2.0    0.0   \n",
      "3         Finks Dorm    0.0   1.0    4.0   2.0     0.0  ...     2.0    0.0   \n",
      "4         Alice Dorm    1.0   1.0    4.0   0.0     0.0  ...     3.0    0.0   \n",
      "..               ...    ...   ...    ...   ...     ...  ...     ...    ...   \n",
      "171              NaN    1.0   1.0    2.0   0.0     0.0  ...     2.0    0.0   \n",
      "172        Sage Dorm    0.0   1.0    2.0   0.0     0.0  ...     3.0    0.0   \n",
      "173        Sage Dorm    2.0   2.0    2.0   0.0     0.0  ...     3.0    0.0   \n",
      "174  Centennial Dorm    1.0   0.0    0.0   0.0     0.0  ...     4.0    0.0   \n",
      "175              NaN    NaN   NaN    NaN   NaN     NaN  ...     NaN    NaN   \n",
      "\n",
      "     KSP_Ci  KSP_X  KSP_Ch  KSP_T  PC_Ci  PC_X  PC_Ch  PC_T  \n",
      "0       0.0    0.0    10.0    0.0    2.0   0.0    8.0   0.0  \n",
      "1       1.0    0.0     6.0    0.0    1.0   0.0    5.0   0.0  \n",
      "2       0.0    0.0     2.0    0.0    0.0   0.0    3.0   0.0  \n",
      "3       1.0    1.0     3.0    0.0    1.0   1.0    1.0   0.0  \n",
      "4       0.0    1.0     2.0    2.0    3.0   0.0   11.0   0.0  \n",
      "..      ...    ...     ...    ...    ...   ...    ...   ...  \n",
      "171     1.0    0.0     9.0    0.0    3.0   4.0   16.0   0.0  \n",
      "172     0.0    0.0     7.0    0.0    4.0   1.0   12.0   0.0  \n",
      "173     0.0    0.0     2.0    0.0    3.0   0.0   14.0   0.0  \n",
      "174     0.0    4.0     6.0    0.0    5.0   2.0   18.0   0.0  \n",
      "175     NaN    NaN     NaN    NaN    NaN   NaN    NaN   NaN  \n",
      "\n",
      "[176 rows x 21 columns]\n",
      "<pandas.core.groupby.generic.SeriesGroupBy object at 0x7fa621a635e0>\n"
     ]
    }
   ],
   "source": [
    "import pandas as pd\n",
    "import seaborn as sns\n",
    "import matplotlib\n",
    "import matplotlib.pyplot as plt\n",
    "import numpy as np\n",
    "\n",
    "\n",
    "pd.set_option('display.max_colwidth', None)\n",
    "\n",
    "df = pd.read_csv('Student_Data_Stripped.csv')\n",
    "# print(df.head())\n",
    "\n",
    "df_long = pd.melt(df, id_vars=['First Name', 'Last Name', 'Advisor', 'Grade', 'Dorm'], var_name='Type Known', value_name='Known Count')\n",
    "\n",
    "# print(df_long.sample(20))\n",
    "\n",
    "\n",
    "grouped = df.groupby('First Name')\n",
    "\n",
    "print(grouped.head())\n",
    "\n",
    "\n",
    "print(grouped['PC_Ci'])"
   ]
  }
 ],
 "metadata": {
  "kernelspec": {
   "display_name": "Python 3 (ipykernel)",
   "language": "python",
   "name": "python3"
  },
  "language_info": {
   "codemirror_mode": {
    "name": "ipython",
    "version": 3
   },
   "file_extension": ".py",
   "mimetype": "text/x-python",
   "name": "python",
   "nbconvert_exporter": "python",
   "pygments_lexer": "ipython3",
   "version": "3.9.5"
  }
 },
 "nbformat": 4,
 "nbformat_minor": 5
}
